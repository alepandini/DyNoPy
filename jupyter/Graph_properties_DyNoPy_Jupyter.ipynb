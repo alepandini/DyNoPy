{
 "cells": [
  {
   "cell_type": "code",
   "execution_count": null,
   "id": "0c93c64f-209c-4933-85d4-cd691223acd9",
   "metadata": {},
   "outputs": [],
   "source": [
    "from dynotools.gmlparser import GMLParser\n",
    "from dynotools.pmlstring import PMLString\n",
    "from dynotools.gmlstats import GMLStats\n",
    "import igraph as ig"
   ]
  },
  {
   "cell_type": "code",
   "execution_count": null,
   "id": "13542320-71b2-4431-a3d7-efd60542bce8",
   "metadata": {},
   "outputs": [],
   "source": [
    "#Load the gml file generated from dyno_4_networks.py -g option\n",
    "#file_gml=\"GML-rmsd_j_wt.gml\"\n",
    "file_gml=\"path/to/gmlfile.gml\"\n",
    "file_gml=\"DyNoPy/test_files/GML-rmsd_j_wt.gml\"\n"
   ]
  },
  {
   "cell_type": "code",
   "execution_count": 5,
   "id": "39094e5a-6ad7-4b63-ab15-15b34e4fd253",
   "metadata": {},
   "outputs": [
    {
     "data": {
      "text/plain": [
       "['id', 'name', 'communityid']"
      ]
     },
     "execution_count": 5,
     "metadata": {},
     "output_type": "execute_result"
    }
   ],
   "source": [
    "#GMLParser class parses the GML file\n",
    "#PMLString class converts the data from GML file into a pml file based on the property of interest\n",
    "\n",
    "#initialise the GMLParser with the gml file as the argument\n",
    "file_gml\n",
    "object_gmlparser = GMLParser(file_gml)\n",
    "#initialise the PMLString object with the GMLparser object as the argument\n",
    "object_pmlstring = PMLString(object_gmlparser)\n",
    "object_gmlparser.graph.vertex_attributes()"
   ]
  },
  {
   "cell_type": "code",
   "execution_count": null,
   "id": "445163ef-f188-4d79-b543-f98b6f51d7d0",
   "metadata": {},
   "outputs": [],
   "source": [
    "#The protein residue network has residues as nodes and edges are based on different properties\n",
    "# Properties of the nodes:\n",
    "#            id\n",
    "#            name\n",
    "#            communityid\n",
    "#            Eigenvector centrality score (to be implemented)\n",
    "# Properties the edges:\n",
    "#            Cab: Coevolution Score of the residue pair a, b\n",
    "#            Sab: Scaled Coevolution Score of the residue pair a, b\n",
    "#            JVec1: J-Score of the residue pair a,b with respect to Vec1, \n",
    "# if there is more than one 1 vector in your analysis you will have JVec2, JVec3, etc... as additional edge properties\n",
    "\n",
    "\n",
    "# To add b-factors to the pdb file\n",
    "# object_pmlstring.alter_bfactor_by_value(\"communityid\")\n"
   ]
  },
  {
   "cell_type": "code",
   "execution_count": null,
   "id": "3b962971-d55d-4561-a674-31d14500644a",
   "metadata": {},
   "outputs": [],
   "source": [
    "#Visualising communities\n",
    "# this function generate_group_selection works based on node properties\n",
    "text=object_pmlstring.generate_group_selection(\"communityid\")\n",
    "object_pmlstring.save_pml_script(text, \"Community_Visualisation.pml\")"
   ]
  },
  {
   "cell_type": "code",
   "execution_count": null,
   "id": "84e72c6c-f721-47c2-93b6-155c46435410",
   "metadata": {},
   "outputs": [],
   "source": [
    "#to add edges in pdb based on edge properties\n",
    "# Option for arguments: Cab or Sab or JVec1\n",
    "text=object_pmlstring.add_network_edges(\"Cab\")\n",
    "object_pmlstring.save_pml_script(text, \"Coevolution_Network.pml\")"
   ]
  },
  {
   "cell_type": "code",
   "execution_count": null,
   "id": "5ddaecd6-8c40-43a1-8137-315bbad612e5",
   "metadata": {},
   "outputs": [],
   "source": []
  },
  {
   "cell_type": "code",
   "execution_count": null,
   "id": "04ed085b-8876-44a5-a4c5-d5e371fa865f",
   "metadata": {},
   "outputs": [],
   "source": [
    "text"
   ]
  },
  {
   "cell_type": "code",
   "execution_count": null,
   "id": "d848d29a-8e29-47bd-8668-8d60ca264b9f",
   "metadata": {},
   "outputs": [],
   "source": [
    "# GMLStats class will help you dump matrix files by following properties to be visualised by the R script in R folder\n",
    "#.        Coevolution matrix\n",
    "#.        Scaled coevolution\n",
    "#.        Jmatrix by Vector name (JVec1)\n",
    "gmlstats_obj=GMLStats(file_gml)\n",
    "coe_mat=gmlstats_obj.get_weighted_adjacency(\"Cab\")\n",
    "import numpy as np\n",
    "np.savetxt(\"Cab_matrix.mat\",coe_mat)"
   ]
  }
 ],
 "metadata": {
  "kernelspec": {
   "display_name": "Python 3 (ipykernel)",
   "language": "python",
   "name": "python3"
  },
  "language_info": {
   "codemirror_mode": {
    "name": "ipython",
    "version": 3
   },
   "file_extension": ".py",
   "mimetype": "text/x-python",
   "name": "python",
   "nbconvert_exporter": "python",
   "pygments_lexer": "ipython3",
   "version": "3.9.12"
  }
 },
 "nbformat": 4,
 "nbformat_minor": 5
}
